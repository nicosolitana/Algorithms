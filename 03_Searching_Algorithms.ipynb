{
 "metadata": {
  "language_info": {
   "codemirror_mode": {
    "name": "ipython",
    "version": 3
   },
   "file_extension": ".py",
   "mimetype": "text/x-python",
   "name": "python",
   "nbconvert_exporter": "python",
   "pygments_lexer": "ipython3",
   "version": "3.9.4-final"
  },
  "orig_nbformat": 2,
  "kernelspec": {
   "name": "python394jvsc74a57bd0afc4294dd615e2d785840fd0138483eb0a8023089414d2420921df548efcdffc",
   "display_name": "Python 3.9.4 64-bit"
  },
  "metadata": {
   "interpreter": {
    "hash": "afc4294dd615e2d785840fd0138483eb0a8023089414d2420921df548efcdffc"
   }
  }
 },
 "nbformat": 4,
 "nbformat_minor": 2,
 "cells": [
  {
   "cell_type": "code",
   "execution_count": 1,
   "metadata": {},
   "outputs": [],
   "source": [
    "# Nico T. Solitana\n",
    "# MS Computer Science\n",
    "# De La Salle University - Manila\n",
    "\n",
    "import numpy as np\n",
    "import pandas as pd\n",
    "import random\n",
    "from matplotlib import pyplot as plt"
   ]
  },
  {
   "cell_type": "code",
   "execution_count": 2,
   "metadata": {},
   "outputs": [
    {
     "output_type": "stream",
     "name": "stdout",
     "text": [
      "[3570, 66831, 95466, 78427, 29827, 65856, 37261, 26281, 23492, 78567]\n"
     ]
    }
   ],
   "source": [
    "# Data Set\n",
    "url = 'Sort Datasets.xlsx'\n",
    "randLst = list(map(round,pd.read_excel(url, sheet_name='Random', header=None).values.flatten().tolist()))\n",
    "randLst_Ngroups = []\n",
    "randLst_Ngroups.append(randLst[999::1000])             # 100\n",
    "randLst_Ngroups.append(randLst[499::500])              # 200\n",
    "randLst_Ngroups.append(randLst[332::333])              # 300\n",
    "randLst_Ngroups.append(randLst[249::250])              # 400\n",
    "randLst_Ngroups.append(randLst[199::200])              # 500\n",
    "randLst_Ngroups.append((randLst[166::166])[:-2])       # 600\n",
    "randLst_Ngroups.append((randLst[142::142])[:-4])       # 700\n",
    "randLst_Ngroups.append(randLst[124::125])              # 800\n",
    "randLst_Ngroups.append(randLst[110::111])              # 900\n",
    "randLst_Ngroups.append(randLst[99::100])               # 1,000\n",
    "\n",
    "search_items = []\n",
    "for i in range(len(randLst_Ngroups)):\n",
    "    search_items.append(random.choice(randLst_Ngroups[i]))\n",
    "\n",
    "print(search_items)"
   ]
  },
  {
   "cell_type": "code",
   "execution_count": 6,
   "metadata": {},
   "outputs": [],
   "source": [
    "# Searching Algorithms\n",
    "\n",
    "def LinearSearch(lst, n):\n",
    "    count = 0\n",
    "    for i in range(len(lst)):\n",
    "        count += 1\n",
    "        if(n == lst[i]):\n",
    "            return count\n",
    "    return count\n",
    "\n",
    "def BinarySearch(lst, n):\n",
    "    start = 0\n",
    "    end = len(lst)-1\n",
    "    mid = 0\n",
    "    count = 0\n",
    "    while(start <= end):\n",
    "        mid = (start + end)//2\n",
    "        count += 1\n",
    "        if(n < lst[mid]):\n",
    "            end = mid - 1\n",
    "        elif(n > lst[mid]):\n",
    "            start = mid + 1\n",
    "        else:\n",
    "            return count\n",
    "            #return mid\n",
    "    return count\n",
    "    #return -1"
   ]
  },
  {
   "cell_type": "code",
   "execution_count": 7,
   "metadata": {},
   "outputs": [],
   "source": [
    "# Simulating Searching Algorithm \n",
    "\n",
    "def SearchSimulator(search_func, lst, search_item):\n",
    "    totalfreq = 0\n",
    "    for i in range(5):\n",
    "        freq = search_func(lst, search_item)\n",
    "        totalfreq += freq\n",
    "    return (totalfreq/5)\n"
   ]
  },
  {
   "source": [
    "# Simulation\n",
    "ls_avg = []\n",
    "bs_avg = []\n",
    "for i in range(10):\n",
    "    lfreq = SearchSimulator(LinearSearch, randLst_Ngroups[i], search_items[i])\n",
    "    ls_avg.append(lfreq)\n",
    "    bfreq = SearchSimulator(BinarySearch, randLst_Ngroups[i], search_items[i])\n",
    "    bs_avg.append(bfreq)\n",
    "    print('Size: {}     Linear: {}      Binary:{}'.format(len(randLst_Ngroups[i]), lfreq, bfreq))"
   ],
   "cell_type": "code",
   "metadata": {
    "tags": []
   },
   "execution_count": 8,
   "outputs": [
    {
     "output_type": "stream",
     "name": "stdout",
     "text": [
      "Size: 100     Linear: 27.0      Binary:6.0\nSize: 200     Linear: 167.0      Binary:8.0\nSize: 300     Linear: 107.0      Binary:9.0\nSize: 400     Linear: 199.0      Binary:9.0\nSize: 500     Linear: 396.0      Binary:9.0\nSize: 600     Linear: 108.0      Binary:9.0\nSize: 700     Linear: 559.0      Binary:9.0\nSize: 800     Linear: 485.0      Binary:9.0\nSize: 900     Linear: 649.0      Binary:10.0\nSize: 1000     Linear: 165.0      Binary:10.0\n"
     ]
    }
   ]
  },
  {
   "cell_type": "code",
   "execution_count": 10,
   "metadata": {},
   "outputs": [
    {
     "output_type": "execute_result",
     "data": {
      "text/plain": [
       "   Linear  Binary\n",
       "0    27.0     6.0\n",
       "1   167.0     8.0\n",
       "2   107.0     9.0\n",
       "3   199.0     9.0\n",
       "4   396.0     9.0\n",
       "5   108.0     9.0\n",
       "6   559.0     9.0\n",
       "7   485.0     9.0\n",
       "8   649.0    10.0\n",
       "9   165.0    10.0"
      ],
      "text/html": "<div>\n<style scoped>\n    .dataframe tbody tr th:only-of-type {\n        vertical-align: middle;\n    }\n\n    .dataframe tbody tr th {\n        vertical-align: top;\n    }\n\n    .dataframe thead th {\n        text-align: right;\n    }\n</style>\n<table border=\"1\" class=\"dataframe\">\n  <thead>\n    <tr style=\"text-align: right;\">\n      <th></th>\n      <th>Linear</th>\n      <th>Binary</th>\n    </tr>\n  </thead>\n  <tbody>\n    <tr>\n      <th>0</th>\n      <td>27.0</td>\n      <td>6.0</td>\n    </tr>\n    <tr>\n      <th>1</th>\n      <td>167.0</td>\n      <td>8.0</td>\n    </tr>\n    <tr>\n      <th>2</th>\n      <td>107.0</td>\n      <td>9.0</td>\n    </tr>\n    <tr>\n      <th>3</th>\n      <td>199.0</td>\n      <td>9.0</td>\n    </tr>\n    <tr>\n      <th>4</th>\n      <td>396.0</td>\n      <td>9.0</td>\n    </tr>\n    <tr>\n      <th>5</th>\n      <td>108.0</td>\n      <td>9.0</td>\n    </tr>\n    <tr>\n      <th>6</th>\n      <td>559.0</td>\n      <td>9.0</td>\n    </tr>\n    <tr>\n      <th>7</th>\n      <td>485.0</td>\n      <td>9.0</td>\n    </tr>\n    <tr>\n      <th>8</th>\n      <td>649.0</td>\n      <td>10.0</td>\n    </tr>\n    <tr>\n      <th>9</th>\n      <td>165.0</td>\n      <td>10.0</td>\n    </tr>\n  </tbody>\n</table>\n</div>"
     },
     "metadata": {},
     "execution_count": 10
    }
   ],
   "source": [
    "data = pd.DataFrame(ls_avg, columns=['Linear'])\n",
    "data['Binary'] = bs_avg\n",
    "data.head(10)"
   ]
  },
  {
   "cell_type": "code",
   "execution_count": null,
   "metadata": {},
   "outputs": [],
   "source": []
  }
 ]
}