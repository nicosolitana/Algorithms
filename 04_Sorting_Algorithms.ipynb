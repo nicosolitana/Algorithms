{
 "metadata": {
  "language_info": {
   "codemirror_mode": {
    "name": "ipython",
    "version": 3
   },
   "file_extension": ".py",
   "mimetype": "text/x-python",
   "name": "python",
   "nbconvert_exporter": "python",
   "pygments_lexer": "ipython3",
   "version": "3.9.4"
  },
  "orig_nbformat": 2,
  "kernelspec": {
   "name": "python394jvsc74a57bd0afc4294dd615e2d785840fd0138483eb0a8023089414d2420921df548efcdffc",
   "display_name": "Python 3.9.4 64-bit"
  },
  "metadata": {
   "interpreter": {
    "hash": "afc4294dd615e2d785840fd0138483eb0a8023089414d2420921df548efcdffc"
   }
  }
 },
 "nbformat": 4,
 "nbformat_minor": 2,
 "cells": [
  {
   "cell_type": "code",
   "execution_count": 1,
   "metadata": {},
   "outputs": [],
   "source": [
    "# Nico T. Solitana\n",
    "# MS Computer Science\n",
    "# De La Salle University - Manila\n",
    "\n",
    "import numpy as np\n",
    "import pandas as pd\n",
    "from matplotlib import pyplot as plt"
   ]
  },
  {
   "source": [
    "# Loading dataset and preparation\n",
    "url = 'Sort Datasets.xlsx'\n",
    "randLst = pd.read_excel(url, sheet_name='Random', header=None).values.flatten().tolist()\n",
    "randLst_Ngroups = []\n",
    "randLst_Ngroups.append(randLst[999::1000])      # 100\n",
    "randLst_Ngroups.append(randLst[499::500])       # 200\n",
    "randLst_Ngroups.append(randLst[199::200])       # 500\n",
    "randLst_Ngroups.append(randLst[99::100])        # 1,000\n",
    "randLst_Ngroups.append(randLst[49::50])         # 2,000\n",
    "randLst_Ngroups.append(randLst[19::20])         # 5,000\n",
    "randLst_Ngroups.append(randLst[9::10])          # 10,000\n",
    "randLst_Ngroups.append(randLst[4::5])           # 20,000\n",
    "randLst_Ngroups.append(randLst[1::2])           # 50,000\n",
    "randLst_Ngroups.append(randLst[0::1])           # 100,000\n",
    "\n",
    "realLst = pd.read_excel(url, sheet_name='Realistic', header=None).values.flatten().tolist()\n",
    "realLst_Ngroups = []\n",
    "realLst_Ngroups.append(realLst[999::1000])      # 100\n",
    "realLst_Ngroups.append(realLst[499::500])       # 200\n",
    "realLst_Ngroups.append(realLst[199::200])       # 500\n",
    "realLst_Ngroups.append(realLst[99::100])        # 1,000\n",
    "realLst_Ngroups.append(realLst[49::50])         # 2,000\n",
    "realLst_Ngroups.append(realLst[19::20])         # 5,000\n",
    "realLst_Ngroups.append(realLst[9::10])          # 10,000\n",
    "realLst_Ngroups.append(realLst[4::5])           # 20,000\n",
    "realLst_Ngroups.append(realLst[1::2])           # 50,000\n",
    "realLst_Ngroups.append(realLst[0::1])           # 100,000\n",
    "\n",
    "convLst = pd.read_excel(url, sheet_name='Contrived', header=None).values.flatten().tolist()\n",
    "convLst_Ngroups = []\n",
    "convLst_Ngroups.append(convLst[999::1000])      # 100\n",
    "convLst_Ngroups.append(convLst[499::500])       # 200\n",
    "convLst_Ngroups.append(convLst[199::200])       # 500\n",
    "convLst_Ngroups.append(convLst[99::100])        # 1,000\n",
    "convLst_Ngroups.append(convLst[49::50])         # 2,000\n",
    "convLst_Ngroups.append(convLst[19::20])         # 5,000\n",
    "convLst_Ngroups.append(convLst[9::10])          # 10,000\n",
    "convLst_Ngroups.append(convLst[4::5])           # 20,000\n",
    "convLst_Ngroups.append(convLst[1::2])           # 50,000\n",
    "convLst_Ngroups.append(convLst[0::1])           # 100,000\n"
   ],
   "cell_type": "code",
   "metadata": {
    "tags": []
   },
   "execution_count": 2,
   "outputs": []
  },
  {
   "cell_type": "code",
   "execution_count": 3,
   "metadata": {},
   "outputs": [],
   "source": [
    "# Selection Sort\n",
    "def SelectionSort(lst, n):\n",
    "  count = 0\n",
    "  for i in range(n):\n",
    "    min = i\n",
    "    for j in range(i+1, n):\n",
    "      count += 1\n",
    "      if(lst[j] < lst[min]):\n",
    "        min = j  \n",
    "    lst[i], lst[min] = lst[min], lst[i]\n",
    "  # print(lst)\n",
    "  return count"
   ]
  },
  {
   "cell_type": "code",
   "execution_count": 4,
   "metadata": {},
   "outputs": [],
   "source": [
    "# Bubble Sort\n",
    "def BubbleSort(lst, n):\n",
    "  count = 0\n",
    "  for i in range(n-1, -1, -1):\n",
    "    for j in range(1, i):\n",
    "      count += 1\n",
    "      if(lst[j-1] > lst[j]):\n",
    "        lst[j-1], lst[j] = lst[j], lst[j-1]\n",
    "  # print(lst)\n",
    "  return count"
   ]
  },
  {
   "cell_type": "code",
   "execution_count": 5,
   "metadata": {},
   "outputs": [],
   "source": [
    "# Insertion Sort\n",
    "def InsertionSort(lst, n):\n",
    "  count = 0\n",
    "  for j in range(1, n):\n",
    "    key = lst[j]\n",
    "    i = j-1\n",
    "    while ((i>0) and (lst[i]>key)):\n",
    "      count += 1\n",
    "      lst[i+1] = lst[i]\n",
    "      i-=1\n",
    "    lst[i+1] = key\n",
    "  # print(lst)\n",
    "  return count"
   ]
  },
  {
   "cell_type": "code",
   "execution_count": 6,
   "metadata": {},
   "outputs": [],
   "source": [
    "# Preparing Growth Chart Data\n",
    "def GetGrowthData(sort_algo, lst):\n",
    "    i=0\n",
    "    growth_data = []\n",
    "    while(i < len(lst)):   \n",
    "        freq = sort_algo(lst[i], len(lst[i]))\n",
    "        init_data = []\n",
    "        init_data.append(len(lst[i]))\n",
    "        init_data.append(freq)\n",
    "        growth_data.append(init_data)\n",
    "        i+=1\n",
    "\n",
    "    growth_df = pd.DataFrame(growth_data, columns=['size','frequency'])\n",
    "    return growth_df"
   ]
  },
  {
   "cell_type": "code",
   "execution_count": 7,
   "metadata": {},
   "outputs": [],
   "source": [
    "randdata = GetGrowthData(SelectionSort, randLst_Ngroups)\n",
    "realdata = GetGrowthData(SelectionSort, realLst_Ngroups)\n",
    "convdata = GetGrowthData(SelectionSort, convLst_Ngroups)\n",
    "data = randdata\n",
    "data['frequency_real'] = realdata['frequency']\n",
    "data['frequency_conv'] = convdata['frequency']"
   ]
  },
  {
   "cell_type": "code",
   "execution_count": 8,
   "metadata": {},
   "outputs": [
    {
     "output_type": "execute_result",
     "data": {
      "text/plain": [
       "     size   frequency  frequency_real  frequency_conv\n",
       "0     100        4950            4950            4950\n",
       "1     200       19900           19900           19900\n",
       "2     500      124750          124750          124750\n",
       "3    1000      499500          499500          499500\n",
       "4    2000     1999000         1999000         1999000\n",
       "5    5000    12497500        12497500        12497500\n",
       "6   10000    49995000        49995000        49995000\n",
       "7   20000   199990000       199990000       199990000\n",
       "8   50000  1249975000      1249975000      1249975000\n",
       "9  100000  4999950000      4999950000      4999950000"
      ],
      "text/html": "<div>\n<style scoped>\n    .dataframe tbody tr th:only-of-type {\n        vertical-align: middle;\n    }\n\n    .dataframe tbody tr th {\n        vertical-align: top;\n    }\n\n    .dataframe thead th {\n        text-align: right;\n    }\n</style>\n<table border=\"1\" class=\"dataframe\">\n  <thead>\n    <tr style=\"text-align: right;\">\n      <th></th>\n      <th>size</th>\n      <th>frequency</th>\n      <th>frequency_real</th>\n      <th>frequency_conv</th>\n    </tr>\n  </thead>\n  <tbody>\n    <tr>\n      <th>0</th>\n      <td>100</td>\n      <td>4950</td>\n      <td>4950</td>\n      <td>4950</td>\n    </tr>\n    <tr>\n      <th>1</th>\n      <td>200</td>\n      <td>19900</td>\n      <td>19900</td>\n      <td>19900</td>\n    </tr>\n    <tr>\n      <th>2</th>\n      <td>500</td>\n      <td>124750</td>\n      <td>124750</td>\n      <td>124750</td>\n    </tr>\n    <tr>\n      <th>3</th>\n      <td>1000</td>\n      <td>499500</td>\n      <td>499500</td>\n      <td>499500</td>\n    </tr>\n    <tr>\n      <th>4</th>\n      <td>2000</td>\n      <td>1999000</td>\n      <td>1999000</td>\n      <td>1999000</td>\n    </tr>\n    <tr>\n      <th>5</th>\n      <td>5000</td>\n      <td>12497500</td>\n      <td>12497500</td>\n      <td>12497500</td>\n    </tr>\n    <tr>\n      <th>6</th>\n      <td>10000</td>\n      <td>49995000</td>\n      <td>49995000</td>\n      <td>49995000</td>\n    </tr>\n    <tr>\n      <th>7</th>\n      <td>20000</td>\n      <td>199990000</td>\n      <td>199990000</td>\n      <td>199990000</td>\n    </tr>\n    <tr>\n      <th>8</th>\n      <td>50000</td>\n      <td>1249975000</td>\n      <td>1249975000</td>\n      <td>1249975000</td>\n    </tr>\n    <tr>\n      <th>9</th>\n      <td>100000</td>\n      <td>4999950000</td>\n      <td>4999950000</td>\n      <td>4999950000</td>\n    </tr>\n  </tbody>\n</table>\n</div>"
     },
     "metadata": {},
     "execution_count": 8
    }
   ],
   "source": [
    "data.head(11)"
   ]
  },
  {
   "source": [
    "ins_randdata = GetGrowthData(InsertionSort, randLst_Ngroups)\n",
    "ins_realdata = GetGrowthData(InsertionSort, realLst_Ngroups)\n",
    "ins_convdata = GetGrowthData(InsertionSort, convLst_Ngroups)\n",
    "ins_sort = ins_randdata\n",
    "ins_sort['frequency_real'] = ins_realdata['frequency']\n",
    "ins_sort['frequency_conv'] = ins_convdata['frequency']\n"
   ],
   "cell_type": "code",
   "metadata": {
    "tags": []
   },
   "execution_count": 7,
   "outputs": []
  },
  {
   "cell_type": "code",
   "execution_count": 8,
   "metadata": {},
   "outputs": [
    {
     "output_type": "execute_result",
     "data": {
      "text/plain": [
       "     size   frequency  frequency_real  frequency_conv\n",
       "0     100        2644            2356            4851\n",
       "1     200       10339            9577           19701\n",
       "2     500       66715           60229          124251\n",
       "3    1000      255189          236836          498501\n",
       "4    2000     1008247          928623         1997001\n",
       "5    5000     6149323         5739852        12492501\n",
       "6   10000    24831461        23008701        49985001\n",
       "7   20000   100380575        91813374       199970001\n",
       "8   50000   624375398       575820757      1249925001\n",
       "9  100000  2499906710      2301700503      4999850001"
      ],
      "text/html": "<div>\n<style scoped>\n    .dataframe tbody tr th:only-of-type {\n        vertical-align: middle;\n    }\n\n    .dataframe tbody tr th {\n        vertical-align: top;\n    }\n\n    .dataframe thead th {\n        text-align: right;\n    }\n</style>\n<table border=\"1\" class=\"dataframe\">\n  <thead>\n    <tr style=\"text-align: right;\">\n      <th></th>\n      <th>size</th>\n      <th>frequency</th>\n      <th>frequency_real</th>\n      <th>frequency_conv</th>\n    </tr>\n  </thead>\n  <tbody>\n    <tr>\n      <th>0</th>\n      <td>100</td>\n      <td>2644</td>\n      <td>2356</td>\n      <td>4851</td>\n    </tr>\n    <tr>\n      <th>1</th>\n      <td>200</td>\n      <td>10339</td>\n      <td>9577</td>\n      <td>19701</td>\n    </tr>\n    <tr>\n      <th>2</th>\n      <td>500</td>\n      <td>66715</td>\n      <td>60229</td>\n      <td>124251</td>\n    </tr>\n    <tr>\n      <th>3</th>\n      <td>1000</td>\n      <td>255189</td>\n      <td>236836</td>\n      <td>498501</td>\n    </tr>\n    <tr>\n      <th>4</th>\n      <td>2000</td>\n      <td>1008247</td>\n      <td>928623</td>\n      <td>1997001</td>\n    </tr>\n    <tr>\n      <th>5</th>\n      <td>5000</td>\n      <td>6149323</td>\n      <td>5739852</td>\n      <td>12492501</td>\n    </tr>\n    <tr>\n      <th>6</th>\n      <td>10000</td>\n      <td>24831461</td>\n      <td>23008701</td>\n      <td>49985001</td>\n    </tr>\n    <tr>\n      <th>7</th>\n      <td>20000</td>\n      <td>100380575</td>\n      <td>91813374</td>\n      <td>199970001</td>\n    </tr>\n    <tr>\n      <th>8</th>\n      <td>50000</td>\n      <td>624375398</td>\n      <td>575820757</td>\n      <td>1249925001</td>\n    </tr>\n    <tr>\n      <th>9</th>\n      <td>100000</td>\n      <td>2499906710</td>\n      <td>2301700503</td>\n      <td>4999850001</td>\n    </tr>\n  </tbody>\n</table>\n</div>"
     },
     "metadata": {},
     "execution_count": 8
    }
   ],
   "source": [
    "ins_sort.head(10)"
   ]
  },
  {
   "cell_type": "code",
   "execution_count": 11,
   "metadata": {},
   "outputs": [],
   "source": [
    "bub_randdata = GetGrowthData(BubbleSort, randLst_Ngroups)\n",
    "bub_realdata = GetGrowthData(BubbleSort, realLst_Ngroups)\n",
    "bub_convdata = GetGrowthData(BubbleSort, convLst_Ngroups)\n",
    "bub_sort = bub_randdata\n",
    "bub_sort['frequency_real'] = bub_realdata['frequency']\n",
    "bub_sort['frequency_conv'] = bub_convdata['frequency']\n"
   ]
  },
  {
   "cell_type": "code",
   "execution_count": 12,
   "metadata": {},
   "outputs": [
    {
     "output_type": "execute_result",
     "data": {
      "text/plain": [
       "     size   frequency  frequency_real  frequency_conv\n",
       "0     100        4851            4851            4851\n",
       "1     200       19701           19701           19701\n",
       "2     500      124251          124251          124251\n",
       "3    1000      498501          498501          498501\n",
       "4    2000     1997001         1997001         1997001\n",
       "5    5000    12492501        12492501        12492501\n",
       "6   10000    49985001        49985001        49985001\n",
       "7   20000   199970001       199970001       199970001\n",
       "8   50000  1249925001      1249925001      1249925001\n",
       "9  100000  4999850001      4999850001      4999850001"
      ],
      "text/html": "<div>\n<style scoped>\n    .dataframe tbody tr th:only-of-type {\n        vertical-align: middle;\n    }\n\n    .dataframe tbody tr th {\n        vertical-align: top;\n    }\n\n    .dataframe thead th {\n        text-align: right;\n    }\n</style>\n<table border=\"1\" class=\"dataframe\">\n  <thead>\n    <tr style=\"text-align: right;\">\n      <th></th>\n      <th>size</th>\n      <th>frequency</th>\n      <th>frequency_real</th>\n      <th>frequency_conv</th>\n    </tr>\n  </thead>\n  <tbody>\n    <tr>\n      <th>0</th>\n      <td>100</td>\n      <td>4851</td>\n      <td>4851</td>\n      <td>4851</td>\n    </tr>\n    <tr>\n      <th>1</th>\n      <td>200</td>\n      <td>19701</td>\n      <td>19701</td>\n      <td>19701</td>\n    </tr>\n    <tr>\n      <th>2</th>\n      <td>500</td>\n      <td>124251</td>\n      <td>124251</td>\n      <td>124251</td>\n    </tr>\n    <tr>\n      <th>3</th>\n      <td>1000</td>\n      <td>498501</td>\n      <td>498501</td>\n      <td>498501</td>\n    </tr>\n    <tr>\n      <th>4</th>\n      <td>2000</td>\n      <td>1997001</td>\n      <td>1997001</td>\n      <td>1997001</td>\n    </tr>\n    <tr>\n      <th>5</th>\n      <td>5000</td>\n      <td>12492501</td>\n      <td>12492501</td>\n      <td>12492501</td>\n    </tr>\n    <tr>\n      <th>6</th>\n      <td>10000</td>\n      <td>49985001</td>\n      <td>49985001</td>\n      <td>49985001</td>\n    </tr>\n    <tr>\n      <th>7</th>\n      <td>20000</td>\n      <td>199970001</td>\n      <td>199970001</td>\n      <td>199970001</td>\n    </tr>\n    <tr>\n      <th>8</th>\n      <td>50000</td>\n      <td>1249925001</td>\n      <td>1249925001</td>\n      <td>1249925001</td>\n    </tr>\n    <tr>\n      <th>9</th>\n      <td>100000</td>\n      <td>4999850001</td>\n      <td>4999850001</td>\n      <td>4999850001</td>\n    </tr>\n  </tbody>\n</table>\n</div>"
     },
     "metadata": {},
     "execution_count": 12
    }
   ],
   "source": [
    "bub_sort.head(10)"
   ]
  }
 ]
}