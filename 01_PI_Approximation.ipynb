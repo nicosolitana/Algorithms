{
 "metadata": {
  "language_info": {
   "codemirror_mode": {
    "name": "ipython",
    "version": 3
   },
   "file_extension": ".py",
   "mimetype": "text/x-python",
   "name": "python",
   "nbconvert_exporter": "python",
   "pygments_lexer": "ipython3",
   "version": "3.9.4-final"
  },
  "orig_nbformat": 2,
  "kernelspec": {
   "name": "python394jvsc74a57bd0afc4294dd615e2d785840fd0138483eb0a8023089414d2420921df548efcdffc",
   "display_name": "Python 3.9.4 64-bit"
  },
  "metadata": {
   "interpreter": {
    "hash": "afc4294dd615e2d785840fd0138483eb0a8023089414d2420921df548efcdffc"
   }
  }
 },
 "nbformat": 4,
 "nbformat_minor": 2,
 "cells": [
  {
   "cell_type": "code",
   "execution_count": 1,
   "metadata": {},
   "outputs": [],
   "source": [
    "# Nico T. Solitana\n",
    "# MS Computer Science\n",
    "# De La Salle University - Manila\n",
    "\n",
    "import numpy as np \n",
    "import pandas as pd \n",
    "import random\n",
    "from matplotlib import pyplot as plt "
   ]
  },
  {
   "cell_type": "code",
   "execution_count": 2,
   "metadata": {},
   "outputs": [],
   "source": [
    "# Variants of PI Approximation\n",
    "\n",
    "def VariantOne(r):\n",
    "    inCount = 0\n",
    "    rsquare = r * r\n",
    "    for x in range (r):\n",
    "        xsquare = x * x\n",
    "        for y in range(r):\n",
    "            if((xsquare+(y*y)) <= rsquare):\n",
    "                inCount += 1\n",
    "    return (4*inCount/rsquare)\n",
    "\n",
    "def VariantTwo(r):\n",
    "    inCount = 0\n",
    "    for i in range(r):\n",
    "        x = random.random()\n",
    "        y = random.random()\n",
    "        xsquare = x * x\n",
    "        ysquare = y * y\n",
    "        if((xsquare+ysquare) <= 1):\n",
    "            inCount += 1\n",
    "    return (4*inCount/r)\n",
    "\n",
    "def VariantThree(r):\n",
    "    inCount = 0\n",
    "    for i in range(1,r):\n",
    "        x = i/r\n",
    "        xsquare = x * x\n",
    "        for j in range(1,r):\n",
    "            y = j/r\n",
    "            ysquare = y * y\n",
    "            if((xsquare+ysquare) <= 1):\n",
    "                inCount += 1\n",
    "    return (4 * inCount /(r*r))\n"
   ]
  },
  {
   "cell_type": "code",
   "execution_count": 4,
   "metadata": {},
   "outputs": [],
   "source": [
    "# Simulates PI Value Approximation\n",
    "\n",
    "def simulator(pi_approx_func):\n",
    "    nLst = [100, 400, 900, 1600, 2500, 3600, 4900, 6400, 8100, 10,000]\n",
    "    approxLst = []\n",
    "    for i in range(len(nLst)-1):\n",
    "        approxLst.append(pi_approx_func(nLst[i]))\n",
    "    return approxLst\n"
   ]
  },
  {
   "cell_type": "code",
   "execution_count": 5,
   "metadata": {},
   "outputs": [
    {
     "output_type": "execute_result",
     "data": {
      "text/plain": [
       "   Variant One  Variant Two  Variant Three\n",
       "0     3.181200     3.240000       3.101600\n",
       "1     3.151375     3.060000       3.131400\n",
       "2     3.145881     3.097778       3.136998\n",
       "3     3.144041     3.125000       3.139042\n",
       "4     3.143168     3.072000       3.139969\n",
       "5     3.142686     3.141111       3.140465\n",
       "6     3.142404     3.158367       3.140772\n",
       "7     3.142207     3.143750       3.140958\n",
       "8     3.142083     3.126420       3.141095\n",
       "9     3.520000     3.600000       2.760000"
      ],
      "text/html": "<div>\n<style scoped>\n    .dataframe tbody tr th:only-of-type {\n        vertical-align: middle;\n    }\n\n    .dataframe tbody tr th {\n        vertical-align: top;\n    }\n\n    .dataframe thead th {\n        text-align: right;\n    }\n</style>\n<table border=\"1\" class=\"dataframe\">\n  <thead>\n    <tr style=\"text-align: right;\">\n      <th></th>\n      <th>Variant One</th>\n      <th>Variant Two</th>\n      <th>Variant Three</th>\n    </tr>\n  </thead>\n  <tbody>\n    <tr>\n      <th>0</th>\n      <td>3.181200</td>\n      <td>3.240000</td>\n      <td>3.101600</td>\n    </tr>\n    <tr>\n      <th>1</th>\n      <td>3.151375</td>\n      <td>3.060000</td>\n      <td>3.131400</td>\n    </tr>\n    <tr>\n      <th>2</th>\n      <td>3.145881</td>\n      <td>3.097778</td>\n      <td>3.136998</td>\n    </tr>\n    <tr>\n      <th>3</th>\n      <td>3.144041</td>\n      <td>3.125000</td>\n      <td>3.139042</td>\n    </tr>\n    <tr>\n      <th>4</th>\n      <td>3.143168</td>\n      <td>3.072000</td>\n      <td>3.139969</td>\n    </tr>\n    <tr>\n      <th>5</th>\n      <td>3.142686</td>\n      <td>3.141111</td>\n      <td>3.140465</td>\n    </tr>\n    <tr>\n      <th>6</th>\n      <td>3.142404</td>\n      <td>3.158367</td>\n      <td>3.140772</td>\n    </tr>\n    <tr>\n      <th>7</th>\n      <td>3.142207</td>\n      <td>3.143750</td>\n      <td>3.140958</td>\n    </tr>\n    <tr>\n      <th>8</th>\n      <td>3.142083</td>\n      <td>3.126420</td>\n      <td>3.141095</td>\n    </tr>\n    <tr>\n      <th>9</th>\n      <td>3.520000</td>\n      <td>3.600000</td>\n      <td>2.760000</td>\n    </tr>\n  </tbody>\n</table>\n</div>"
     },
     "metadata": {},
     "execution_count": 5
    }
   ],
   "source": [
    "# Simulation Execution\n",
    "\n",
    "voneLst = simulator(VariantOne)\n",
    "vtwoLst = simulator(VariantTwo)\n",
    "vthreeLst = simulator(VariantThree)\n",
    "\n",
    "df = pd.DataFrame(voneLst, columns=['Variant One'])\n",
    "df['Variant Two'] = vtwoLst\n",
    "df['Variant Three'] = vthreeLst\n",
    "df"
   ]
  }
 ]
}