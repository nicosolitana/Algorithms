{
  "nbformat": 4,
  "nbformat_minor": 0,
  "metadata": {
    "colab": {
      "name": "Copy of Copy of 05_Advance_Sorting_Quick_Sort.ipynb",
      "provenance": []
    },
    "kernelspec": {
      "name": "python3",
      "display_name": "Python 3"
    },
    "language_info": {
      "name": "python"
    }
  },
  "cells": [
    {
      "cell_type": "code",
      "metadata": {
        "id": "psTPrZJbt97P"
      },
      "source": [
        "# Nico T. Solitana\n",
        "# MS Computer Science\n",
        "# De La Salle University - Manila\n",
        "\n",
        "import numpy as np\n",
        "import pandas as pd\n",
        "import sys\n",
        "sys.setrecursionlimit(50000000)"
      ],
      "execution_count": null,
      "outputs": []
    },
    {
      "cell_type": "code",
      "metadata": {
        "id": "le_m1guXuDDv"
      },
      "source": [
        "# Loading dataset and preparation\n",
        "url = '/content/drive/MyDrive/Algo/Dataset/Sort Datasets.xlsx'\n",
        "randLst = pd.read_excel(url, sheet_name='Random', header=None).values.flatten().tolist()\n",
        "randLst_Ngroups = []\n",
        "randLst_Ngroups.append(randLst[999::1000])      # 100\n",
        "randLst_Ngroups.append(randLst[499::500])       # 200\n",
        "randLst_Ngroups.append(randLst[199::200])       # 500\n",
        "randLst_Ngroups.append(randLst[99::100])        # 1,000\n",
        "randLst_Ngroups.append(randLst[49::50])         # 2,000\n",
        "randLst_Ngroups.append(randLst[19::20])         # 5,000\n",
        "randLst_Ngroups.append(randLst[9::10])          # 10,000\n",
        "randLst_Ngroups.append((randLst[4::6])[:15000]) # 15,000\n",
        "randLst_Ngroups.append(randLst[4::5])           # 20,000\n",
        "\n",
        "realLst = pd.read_excel(url, sheet_name='Realistic', header=None).values.flatten().tolist()\n",
        "realLst_Ngroups = []\n",
        "realLst_Ngroups.append(realLst[999::1000])      # 100\n",
        "realLst_Ngroups.append(realLst[499::500])       # 200\n",
        "realLst_Ngroups.append(realLst[199::200])       # 500\n",
        "realLst_Ngroups.append(realLst[99::100])        # 1,000\n",
        "realLst_Ngroups.append(realLst[49::50])         # 2,000\n",
        "realLst_Ngroups.append(realLst[19::20])         # 5,000\n",
        "realLst_Ngroups.append(realLst[9::10])          # 10,000\n",
        "realLst_Ngroups.append((realLst[4::6])[:15000])  # 15,000\n",
        "realLst_Ngroups.append(realLst[4::5])           # 20,000\n",
        "\n",
        "convLst = pd.read_excel(url, sheet_name='Contrived', header=None).values.flatten().tolist()\n",
        "convLst_Ngroups = []\n",
        "convLst_Ngroups.append(convLst[999::1000])      # 100\n",
        "convLst_Ngroups.append(convLst[499::500])       # 200\n",
        "convLst_Ngroups.append(convLst[199::200])       # 500\n",
        "convLst_Ngroups.append(convLst[99::100])        # 1,000\n",
        "convLst_Ngroups.append(convLst[49::50])         # 2,000\n",
        "convLst_Ngroups.append(convLst[19::20])         # 5,000\n",
        "convLst_Ngroups.append(convLst[9::10])          # 10,000\n",
        "convLst_Ngroups.append((convLst[4::6])[:15000])  # 15,000\n",
        "convLst_Ngroups.append(convLst[4::5])           # 20,000\n"
      ],
      "execution_count": null,
      "outputs": []
    },
    {
      "cell_type": "code",
      "metadata": {
        "id": "VFo-vQ6GuJ_u"
      },
      "source": [
        "count = 0\n",
        "def partition(arr, low, high):\n",
        "    i = (low-1)         # index of smaller element\n",
        "    pivot = arr[high]     # pivot\n",
        "  \n",
        "    for j in range(low, high):\n",
        "  \n",
        "        # If current element is smaller than or\n",
        "        # equal to pivot\n",
        "        global count\n",
        "        count = count + 1\n",
        "        if arr[j] <= pivot:\n",
        "  \n",
        "            # increment index of smaller element\n",
        "            i = i+1\n",
        "            arr[i], arr[j] = arr[j], arr[i]\n",
        "  \n",
        "    arr[i+1], arr[high] = arr[high], arr[i+1]\n",
        "    return (i+1)\n",
        "  \n",
        "# The main function that implements QuickSort\n",
        "# arr[] --> Array to be sorted,\n",
        "# low  --> Starting index,\n",
        "# high  --> Ending index\n",
        "  \n",
        "# Function to do Quick sort\n",
        "def quickSort(arr, low, high):\n",
        "    if len(arr) == 1:\n",
        "        return arr\n",
        "    if low < high:\n",
        "  \n",
        "        # pi is partitioning index, arr[p] is now\n",
        "        # at right place\n",
        "        pi = partition(arr, low, high)\n",
        "  \n",
        "        # Separately sort elements before\n",
        "        # partition and after partition\n",
        "        quickSort(arr, low, pi-1)\n",
        "        quickSort(arr, pi+1, high)"
      ],
      "execution_count": null,
      "outputs": []
    },
    {
      "cell_type": "code",
      "metadata": {
        "id": "DvS_H3UXuKqH"
      },
      "source": [
        "# Preparing Growth Chart Data\n",
        "def SimulateQuickSort(sort_algo, lst):\n",
        "    i=0\n",
        "    growth_data = []\n",
        "    while(i < len(lst)):   \n",
        "        sort_algo(lst[i], 0, len(lst[i])-1)\n",
        "        freq = count\n",
        "        init_data = []\n",
        "        init_data.append(len(lst[i]))\n",
        "        init_data.append(freq)\n",
        "        print('Length: {}, Frequency: {} '.format(len(lst[i]), freq))\n",
        "        growth_data.append(init_data)\n",
        "        i+=1\n",
        "\n",
        "    growth_df = pd.DataFrame(growth_data, columns=['size','frequency'])\n",
        "    return growth_df"
      ],
      "execution_count": null,
      "outputs": []
    },
    {
      "cell_type": "code",
      "metadata": {
        "colab": {
          "base_uri": "https://localhost:8080/",
          "height": 472
        },
        "id": "TCiveLbFuO69",
        "outputId": "1dd6c79d-22e9-4203-d8b9-b65ffe21455d"
      },
      "source": [
        "qk_randdata = SimulateQuickSort(quickSort, randLst_Ngroups)\n",
        "qkdata = qk_randdata\n",
        "qkdata.head(10)"
      ],
      "execution_count": null,
      "outputs": [
        {
          "output_type": "stream",
          "text": [
            "Length: 100, Frequency: 695 \n",
            "Length: 200, Frequency: 2427 \n",
            "Length: 500, Frequency: 7935 \n",
            "Length: 1000, Frequency: 18684 \n",
            "Length: 2000, Frequency: 43781 \n",
            "Length: 5000, Frequency: 114601 \n",
            "Length: 10000, Frequency: 282698 \n",
            "Length: 15000, Frequency: 542841 \n",
            "Length: 20000, Frequency: 890589 \n"
          ],
          "name": "stdout"
        },
        {
          "output_type": "execute_result",
          "data": {
            "text/html": [
              "<div>\n",
              "<style scoped>\n",
              "    .dataframe tbody tr th:only-of-type {\n",
              "        vertical-align: middle;\n",
              "    }\n",
              "\n",
              "    .dataframe tbody tr th {\n",
              "        vertical-align: top;\n",
              "    }\n",
              "\n",
              "    .dataframe thead th {\n",
              "        text-align: right;\n",
              "    }\n",
              "</style>\n",
              "<table border=\"1\" class=\"dataframe\">\n",
              "  <thead>\n",
              "    <tr style=\"text-align: right;\">\n",
              "      <th></th>\n",
              "      <th>size</th>\n",
              "      <th>frequency</th>\n",
              "    </tr>\n",
              "  </thead>\n",
              "  <tbody>\n",
              "    <tr>\n",
              "      <th>0</th>\n",
              "      <td>100</td>\n",
              "      <td>695</td>\n",
              "    </tr>\n",
              "    <tr>\n",
              "      <th>1</th>\n",
              "      <td>200</td>\n",
              "      <td>2427</td>\n",
              "    </tr>\n",
              "    <tr>\n",
              "      <th>2</th>\n",
              "      <td>500</td>\n",
              "      <td>7935</td>\n",
              "    </tr>\n",
              "    <tr>\n",
              "      <th>3</th>\n",
              "      <td>1000</td>\n",
              "      <td>18684</td>\n",
              "    </tr>\n",
              "    <tr>\n",
              "      <th>4</th>\n",
              "      <td>2000</td>\n",
              "      <td>43781</td>\n",
              "    </tr>\n",
              "    <tr>\n",
              "      <th>5</th>\n",
              "      <td>5000</td>\n",
              "      <td>114601</td>\n",
              "    </tr>\n",
              "    <tr>\n",
              "      <th>6</th>\n",
              "      <td>10000</td>\n",
              "      <td>282698</td>\n",
              "    </tr>\n",
              "    <tr>\n",
              "      <th>7</th>\n",
              "      <td>15000</td>\n",
              "      <td>542841</td>\n",
              "    </tr>\n",
              "    <tr>\n",
              "      <th>8</th>\n",
              "      <td>20000</td>\n",
              "      <td>890589</td>\n",
              "    </tr>\n",
              "  </tbody>\n",
              "</table>\n",
              "</div>"
            ],
            "text/plain": [
              "    size  frequency\n",
              "0    100        695\n",
              "1    200       2427\n",
              "2    500       7935\n",
              "3   1000      18684\n",
              "4   2000      43781\n",
              "5   5000     114601\n",
              "6  10000     282698\n",
              "7  15000     542841\n",
              "8  20000     890589"
            ]
          },
          "metadata": {
            "tags": []
          },
          "execution_count": 10
        }
      ]
    },
    {
      "cell_type": "code",
      "metadata": {
        "id": "igqULgEGwBlv",
        "colab": {
          "base_uri": "https://localhost:8080/",
          "height": 472
        },
        "outputId": "72c9481e-ae77-4978-cd05-1e69a9ebdb95"
      },
      "source": [
        "count = 0\n",
        "qk_realdata = SimulateQuickSort(quickSort, realLst_Ngroups)\n",
        "qkdata = qk_realdata\n",
        "qkdata.head(10)"
      ],
      "execution_count": null,
      "outputs": [
        {
          "output_type": "stream",
          "text": [
            "Length: 100, Frequency: 828 \n",
            "Length: 200, Frequency: 3515 \n",
            "Length: 500, Frequency: 17569 \n",
            "Length: 1000, Frequency: 70649 \n",
            "Length: 2000, Frequency: 277794 \n",
            "Length: 5000, Frequency: 1537576 \n",
            "Length: 10000, Frequency: 6525820 \n",
            "Length: 15000, Frequency: 6786784 \n",
            "Length: 20000, Frequency: 26670279 \n"
          ],
          "name": "stdout"
        },
        {
          "output_type": "execute_result",
          "data": {
            "text/html": [
              "<div>\n",
              "<style scoped>\n",
              "    .dataframe tbody tr th:only-of-type {\n",
              "        vertical-align: middle;\n",
              "    }\n",
              "\n",
              "    .dataframe tbody tr th {\n",
              "        vertical-align: top;\n",
              "    }\n",
              "\n",
              "    .dataframe thead th {\n",
              "        text-align: right;\n",
              "    }\n",
              "</style>\n",
              "<table border=\"1\" class=\"dataframe\">\n",
              "  <thead>\n",
              "    <tr style=\"text-align: right;\">\n",
              "      <th></th>\n",
              "      <th>size</th>\n",
              "      <th>frequency</th>\n",
              "    </tr>\n",
              "  </thead>\n",
              "  <tbody>\n",
              "    <tr>\n",
              "      <th>0</th>\n",
              "      <td>100</td>\n",
              "      <td>828</td>\n",
              "    </tr>\n",
              "    <tr>\n",
              "      <th>1</th>\n",
              "      <td>200</td>\n",
              "      <td>3515</td>\n",
              "    </tr>\n",
              "    <tr>\n",
              "      <th>2</th>\n",
              "      <td>500</td>\n",
              "      <td>17569</td>\n",
              "    </tr>\n",
              "    <tr>\n",
              "      <th>3</th>\n",
              "      <td>1000</td>\n",
              "      <td>70649</td>\n",
              "    </tr>\n",
              "    <tr>\n",
              "      <th>4</th>\n",
              "      <td>2000</td>\n",
              "      <td>277794</td>\n",
              "    </tr>\n",
              "    <tr>\n",
              "      <th>5</th>\n",
              "      <td>5000</td>\n",
              "      <td>1537576</td>\n",
              "    </tr>\n",
              "    <tr>\n",
              "      <th>6</th>\n",
              "      <td>10000</td>\n",
              "      <td>6525820</td>\n",
              "    </tr>\n",
              "    <tr>\n",
              "      <th>7</th>\n",
              "      <td>15000</td>\n",
              "      <td>6786784</td>\n",
              "    </tr>\n",
              "    <tr>\n",
              "      <th>8</th>\n",
              "      <td>20000</td>\n",
              "      <td>26670279</td>\n",
              "    </tr>\n",
              "  </tbody>\n",
              "</table>\n",
              "</div>"
            ],
            "text/plain": [
              "    size  frequency\n",
              "0    100        828\n",
              "1    200       3515\n",
              "2    500      17569\n",
              "3   1000      70649\n",
              "4   2000     277794\n",
              "5   5000    1537576\n",
              "6  10000    6525820\n",
              "7  15000    6786784\n",
              "8  20000   26670279"
            ]
          },
          "metadata": {
            "tags": []
          },
          "execution_count": 11
        }
      ]
    },
    {
      "cell_type": "code",
      "metadata": {
        "id": "7z69BWM8wEbe",
        "colab": {
          "base_uri": "https://localhost:8080/",
          "height": 472
        },
        "outputId": "a2991f14-18e4-4bb9-deee-0a698aae69a8"
      },
      "source": [
        "count = 0\n",
        "qk_convdata = SimulateQuickSort(quickSort, convLst_Ngroups)\n",
        "qkdata = qk_convdata\n",
        "qkdata.head(10)"
      ],
      "execution_count": null,
      "outputs": [
        {
          "output_type": "stream",
          "text": [
            "Length: 100, Frequency: 4950 \n",
            "Length: 200, Frequency: 24850 \n",
            "Length: 500, Frequency: 149600 \n",
            "Length: 1000, Frequency: 649100 \n",
            "Length: 2000, Frequency: 2648100 \n",
            "Length: 5000, Frequency: 15145600 \n",
            "Length: 10000, Frequency: 65140600 \n",
            "Length: 15000, Frequency: 177633100 \n",
            "Length: 20000, Frequency: 377623100 \n"
          ],
          "name": "stdout"
        },
        {
          "output_type": "execute_result",
          "data": {
            "text/html": [
              "<div>\n",
              "<style scoped>\n",
              "    .dataframe tbody tr th:only-of-type {\n",
              "        vertical-align: middle;\n",
              "    }\n",
              "\n",
              "    .dataframe tbody tr th {\n",
              "        vertical-align: top;\n",
              "    }\n",
              "\n",
              "    .dataframe thead th {\n",
              "        text-align: right;\n",
              "    }\n",
              "</style>\n",
              "<table border=\"1\" class=\"dataframe\">\n",
              "  <thead>\n",
              "    <tr style=\"text-align: right;\">\n",
              "      <th></th>\n",
              "      <th>size</th>\n",
              "      <th>frequency</th>\n",
              "    </tr>\n",
              "  </thead>\n",
              "  <tbody>\n",
              "    <tr>\n",
              "      <th>0</th>\n",
              "      <td>100</td>\n",
              "      <td>4950</td>\n",
              "    </tr>\n",
              "    <tr>\n",
              "      <th>1</th>\n",
              "      <td>200</td>\n",
              "      <td>24850</td>\n",
              "    </tr>\n",
              "    <tr>\n",
              "      <th>2</th>\n",
              "      <td>500</td>\n",
              "      <td>149600</td>\n",
              "    </tr>\n",
              "    <tr>\n",
              "      <th>3</th>\n",
              "      <td>1000</td>\n",
              "      <td>649100</td>\n",
              "    </tr>\n",
              "    <tr>\n",
              "      <th>4</th>\n",
              "      <td>2000</td>\n",
              "      <td>2648100</td>\n",
              "    </tr>\n",
              "    <tr>\n",
              "      <th>5</th>\n",
              "      <td>5000</td>\n",
              "      <td>15145600</td>\n",
              "    </tr>\n",
              "    <tr>\n",
              "      <th>6</th>\n",
              "      <td>10000</td>\n",
              "      <td>65140600</td>\n",
              "    </tr>\n",
              "    <tr>\n",
              "      <th>7</th>\n",
              "      <td>15000</td>\n",
              "      <td>177633100</td>\n",
              "    </tr>\n",
              "    <tr>\n",
              "      <th>8</th>\n",
              "      <td>20000</td>\n",
              "      <td>377623100</td>\n",
              "    </tr>\n",
              "  </tbody>\n",
              "</table>\n",
              "</div>"
            ],
            "text/plain": [
              "    size  frequency\n",
              "0    100       4950\n",
              "1    200      24850\n",
              "2    500     149600\n",
              "3   1000     649100\n",
              "4   2000    2648100\n",
              "5   5000   15145600\n",
              "6  10000   65140600\n",
              "7  15000  177633100\n",
              "8  20000  377623100"
            ]
          },
          "metadata": {
            "tags": []
          },
          "execution_count": 12
        }
      ]
    }
  ]
}