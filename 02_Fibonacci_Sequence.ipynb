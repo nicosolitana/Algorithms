{
 "metadata": {
  "language_info": {
   "codemirror_mode": {
    "name": "ipython",
    "version": 3
   },
   "file_extension": ".py",
   "mimetype": "text/x-python",
   "name": "python",
   "nbconvert_exporter": "python",
   "pygments_lexer": "ipython3",
   "version": "3.9.4-final"
  },
  "orig_nbformat": 2,
  "kernelspec": {
   "name": "python394jvsc74a57bd0afc4294dd615e2d785840fd0138483eb0a8023089414d2420921df548efcdffc",
   "display_name": "Python 3.9.4 64-bit"
  },
  "metadata": {
   "interpreter": {
    "hash": "afc4294dd615e2d785840fd0138483eb0a8023089414d2420921df548efcdffc"
   }
  }
 },
 "nbformat": 4,
 "nbformat_minor": 2,
 "cells": [
  {
   "cell_type": "code",
   "execution_count": 1,
   "metadata": {},
   "outputs": [
    {
     "output_type": "stream",
     "name": "stdout",
     "text": [
      "Itr:1  Freq:1\n",
      "Itr:2  Freq:3\n",
      "Itr:3  Freq:5\n",
      "Itr:4  Freq:9\n",
      "Itr:5  Freq:15\n",
      "Itr:6  Freq:25\n",
      "Itr:7  Freq:41\n",
      "Itr:8  Freq:67\n",
      "Itr:9  Freq:109\n",
      "Itr:10  Freq:177\n",
      "Itr:11  Freq:287\n",
      "Itr:12  Freq:465\n",
      "Itr:13  Freq:753\n",
      "Itr:14  Freq:1219\n",
      "Itr:15  Freq:1973\n",
      "Itr:16  Freq:3193\n",
      "Itr:17  Freq:5167\n",
      "Itr:18  Freq:8361\n",
      "Itr:19  Freq:13529\n",
      "Itr:20  Freq:21891\n",
      "Itr:21  Freq:35421\n",
      "Itr:22  Freq:57313\n",
      "Itr:23  Freq:92735\n",
      "Itr:24  Freq:150049\n",
      "Itr:25  Freq:242785\n",
      "Itr:26  Freq:392835\n",
      "Itr:27  Freq:635621\n",
      "Itr:28  Freq:1028457\n",
      "Itr:29  Freq:1664079\n",
      "Itr:30  Freq:2692537\n",
      "Itr:31  Freq:4356617\n",
      "Itr:32  Freq:7049155\n",
      "Itr:33  Freq:11405773\n",
      "Itr:34  Freq:18454929\n",
      "Itr:35  Freq:29860703\n",
      "Itr:36  Freq:48315633\n",
      "Itr:37  Freq:78176337\n",
      "Itr:38  Freq:126491971\n",
      "Itr:39  Freq:204668309\n",
      "Itr:40  Freq:331160281\n",
      "Itr:41  Freq:535828591\n",
      "Itr:42  Freq:866988873\n",
      "Itr:43  Freq:1402817465\n",
      "Itr:44  Freq:2269806339\n",
      "Itr:45  Freq:3672623805\n",
      "Itr:46  Freq:5942430145\n",
      "Itr:47  Freq:9615053951\n",
      "Itr:48  Freq:15557484097\n"
     ]
    }
   ],
   "source": [
    "# Nico T. Solitana\n",
    "# MS Computer Science\n",
    "# De La Salle University - Manila\n",
    "\n",
    "import numpy as np\n",
    "import pandas as pd\n",
    "from matplotlib import pyplot as plt\n",
    "\n",
    "count = 0\n",
    "def Fibonacci(n):\n",
    "    global count\n",
    "    count += 1\n",
    "    if(n<=1):\n",
    "        return n\n",
    "    else:\n",
    "        return Fibonacci(n-1) + Fibonacci(n-2)\n",
    "\n",
    "res = []\n",
    "for i in range(1,49):\n",
    "    count = 0\n",
    "    Fibonacci(i)\n",
    "    sub = []\n",
    "    sub.append(i)\n",
    "    sub.append(count)\n",
    "    res.append(sub)\n",
    "    print('Itr:{}  Freq:{}'.format(i, count))"
   ]
  },
  {
   "source": [
    "data = pd.DataFrame(res, columns=['Iterations', 'Frequency Count'])\n",
    "data.head(50)"
   ],
   "cell_type": "code",
   "metadata": {},
   "execution_count": null,
   "outputs": []
  },
  {
   "source": [
    "# Separated Execution for N = 49 and 50\n",
    "# since its taking too much time to execute\n",
    "\n",
    "count = 0\n",
    "Fibonacci(49)\n",
    "sub = []\n",
    "sub.append(i)\n",
    "sub.append(count)\n",
    "res.append(sub)\n",
    "print('Itr:{}  Freq:{}'.format(i, count))\n"
   ],
   "cell_type": "code",
   "metadata": {},
   "execution_count": 14,
   "outputs": [
    {
     "output_type": "stream",
     "name": "stdout",
     "text": [
      "Itr:48  Freq:25172538049\n"
     ]
    }
   ]
  },
  {
   "cell_type": "code",
   "execution_count": 3,
   "metadata": {},
   "outputs": [
    {
     "output_type": "error",
     "ename": "NameError",
     "evalue": "name 'i' is not defined",
     "traceback": [
      "\u001b[1;31m---------------------------------------------------------------------------\u001b[0m",
      "\u001b[1;31mNameError\u001b[0m                                 Traceback (most recent call last)",
      "\u001b[1;32m<ipython-input-3-8485d729cc9d>\u001b[0m in \u001b[0;36m<module>\u001b[1;34m\u001b[0m\n\u001b[0;32m      2\u001b[0m \u001b[0mFibonacci\u001b[0m\u001b[1;33m(\u001b[0m\u001b[1;36m50\u001b[0m\u001b[1;33m)\u001b[0m\u001b[1;33m\u001b[0m\u001b[1;33m\u001b[0m\u001b[0m\n\u001b[0;32m      3\u001b[0m \u001b[0msub\u001b[0m \u001b[1;33m=\u001b[0m \u001b[1;33m[\u001b[0m\u001b[1;33m]\u001b[0m\u001b[1;33m\u001b[0m\u001b[1;33m\u001b[0m\u001b[0m\n\u001b[1;32m----> 4\u001b[1;33m \u001b[0msub\u001b[0m\u001b[1;33m.\u001b[0m\u001b[0mappend\u001b[0m\u001b[1;33m(\u001b[0m\u001b[0mi\u001b[0m\u001b[1;33m)\u001b[0m\u001b[1;33m\u001b[0m\u001b[1;33m\u001b[0m\u001b[0m\n\u001b[0m\u001b[0;32m      5\u001b[0m \u001b[0msub\u001b[0m\u001b[1;33m.\u001b[0m\u001b[0mappend\u001b[0m\u001b[1;33m(\u001b[0m\u001b[0mcount\u001b[0m\u001b[1;33m)\u001b[0m\u001b[1;33m\u001b[0m\u001b[1;33m\u001b[0m\u001b[0m\n\u001b[0;32m      6\u001b[0m \u001b[0mres\u001b[0m\u001b[1;33m.\u001b[0m\u001b[0mappend\u001b[0m\u001b[1;33m(\u001b[0m\u001b[0msub\u001b[0m\u001b[1;33m)\u001b[0m\u001b[1;33m\u001b[0m\u001b[1;33m\u001b[0m\u001b[0m\n",
      "\u001b[1;31mNameError\u001b[0m: name 'i' is not defined"
     ]
    }
   ],
   "source": [
    "count = 0\n",
    "Fibonacci(50)\n",
    "sub = []\n",
    "sub.append(i)\n",
    "sub.append(count)\n",
    "res.append(sub)\n",
    "print('Itr:{}  Freq:{}'.format(i, count))"
   ]
  },
  {
   "cell_type": "code",
   "execution_count": 4,
   "metadata": {},
   "outputs": [
    {
     "output_type": "stream",
     "name": "stdout",
     "text": [
      "40730022147\n"
     ]
    }
   ],
   "source": [
    "print(count)"
   ]
  },
  {
   "cell_type": "code",
   "execution_count": null,
   "metadata": {},
   "outputs": [],
   "source": []
  }
 ]
}