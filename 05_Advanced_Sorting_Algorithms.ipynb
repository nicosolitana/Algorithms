{
 "metadata": {
  "language_info": {
   "codemirror_mode": {
    "name": "ipython",
    "version": 3
   },
   "file_extension": ".py",
   "mimetype": "text/x-python",
   "name": "python",
   "nbconvert_exporter": "python",
   "pygments_lexer": "ipython3",
   "version": "3.9.4"
  },
  "orig_nbformat": 2,
  "kernelspec": {
   "name": "python394jvsc74a57bd0afc4294dd615e2d785840fd0138483eb0a8023089414d2420921df548efcdffc",
   "display_name": "Python 3.9.4 64-bit"
  },
  "metadata": {
   "interpreter": {
    "hash": "afc4294dd615e2d785840fd0138483eb0a8023089414d2420921df548efcdffc"
   }
  }
 },
 "nbformat": 4,
 "nbformat_minor": 2,
 "cells": [
  {
   "cell_type": "code",
   "execution_count": 41,
   "metadata": {},
   "outputs": [],
   "source": [
    "# Nico T. Solitana\n",
    "# MS Computer Science\n",
    "# De La Salle University - Manila\n",
    "\n",
    "import numpy as np\n",
    "import pandas as pd\n",
    "from matplotlib import pyplot as plt"
   ]
  },
  {
   "cell_type": "code",
   "execution_count": 42,
   "metadata": {},
   "outputs": [],
   "source": [
    "# Loading dataset and preparation\n",
    "url = 'Sort Datasets.xlsx'\n",
    "randLst = pd.read_excel(url, sheet_name='Random', header=None).values.flatten().tolist()\n",
    "randLst_Ngroups = []\n",
    "randLst_Ngroups.append(randLst[999::1000])      # 100\n",
    "randLst_Ngroups.append(randLst[499::500])       # 200\n",
    "randLst_Ngroups.append(randLst[199::200])       # 500\n",
    "randLst_Ngroups.append(randLst[99::100])        # 1,000\n",
    "randLst_Ngroups.append(randLst[49::50])         # 2,000\n",
    "randLst_Ngroups.append(randLst[19::20])         # 5,000\n",
    "randLst_Ngroups.append(randLst[9::10])          # 10,000\n",
    "randLst_Ngroups.append((randLst[4::6])[:15000]) # 16,000\n",
    "randLst_Ngroups.append(randLst[4::5])           # 20,000\n",
    "\n",
    "realLst = pd.read_excel(url, sheet_name='Realistic', header=None).values.flatten().tolist()\n",
    "realLst_Ngroups = []\n",
    "realLst_Ngroups.append(realLst[999::1000])      # 100\n",
    "realLst_Ngroups.append(realLst[499::500])       # 200\n",
    "realLst_Ngroups.append(realLst[199::200])       # 500\n",
    "realLst_Ngroups.append(realLst[99::100])        # 1,000\n",
    "realLst_Ngroups.append(realLst[49::50])         # 2,000\n",
    "realLst_Ngroups.append(realLst[19::20])         # 5,000\n",
    "realLst_Ngroups.append(realLst[9::10])          # 10,000\n",
    "realLst_Ngroups.append((realLst[4::6])[:15000]) # 16,000\n",
    "realLst_Ngroups.append(realLst[4::5])           # 20,000\n",
    "\n",
    "convLst = pd.read_excel(url, sheet_name='Contrived', header=None).values.flatten().tolist()\n",
    "convLst_Ngroups = []\n",
    "convLst_Ngroups.append(convLst[999::1000])      # 100\n",
    "convLst_Ngroups.append(convLst[499::500])       # 200\n",
    "convLst_Ngroups.append(convLst[199::200])       # 500\n",
    "convLst_Ngroups.append(convLst[99::100])        # 1,000\n",
    "convLst_Ngroups.append(convLst[49::50])         # 2,000\n",
    "convLst_Ngroups.append(convLst[19::20])         # 5,000\n",
    "convLst_Ngroups.append(convLst[9::10])          # 10,000\n",
    "convLst_Ngroups.append((convLst[4::6])[:15000]) # 16,000\n",
    "convLst_Ngroups.append(convLst[4::5])           # 20,000\n"
   ]
  },
  {
   "cell_type": "code",
   "execution_count": 43,
   "metadata": {},
   "outputs": [],
   "source": [
    "# Merge Sort Algorithm\n",
    "# https://www.geeksforgeeks.org/python-program-for-merge-sort/\n",
    "count = 0\n",
    "def merge(arr, l, m, r):\n",
    "    n1 = m - l + 1\n",
    "    n2 = r- m\n",
    "  \n",
    "    # create temp arrays\n",
    "    L = [0] * (n1)\n",
    "    R = [0] * (n2)\n",
    "  \n",
    "    # Copy data to temp arrays L[] and R[]\n",
    "    for i in range(0 , n1):\n",
    "        L[i] = arr[l + i]\n",
    "  \n",
    "    for j in range(0 , n2):\n",
    "        R[j] = arr[m + 1 + j]\n",
    "  \n",
    "    # Merge the temp arrays back into arr[l..r]\n",
    "    i = 0     # Initial index of first subarray\n",
    "    j = 0     # Initial index of second subarray\n",
    "    k = l     # Initial index of merged subarray\n",
    "  \n",
    "    while i < n1 and j < n2 :\n",
    "        if L[i] <= R[j]:\n",
    "            arr[k] = L[i]\n",
    "            i += 1\n",
    "        else:\n",
    "            arr[k] = R[j]\n",
    "            j += 1\n",
    "        k += 1\n",
    "  \n",
    "    # Copy the remaining elements of L[], if there\n",
    "    # are any\n",
    "    while i < n1:\n",
    "        arr[k] = L[i]\n",
    "        i += 1\n",
    "        k += 1\n",
    "  \n",
    "    # Copy the remaining elements of R[], if there\n",
    "    # are any\n",
    "    while j < n2:\n",
    "        global count\n",
    "        count += 1\n",
    "        arr[k] = R[j]\n",
    "        j += 1\n",
    "        k += 1\n",
    "  \n",
    "# l is for left index and r is right index of the\n",
    "# sub-array of arr to be sorted\n",
    "def mergeSort(arr,l,r):\n",
    "    if l < r:\n",
    "        # Same as (l+r)//2, but avoids overflow for\n",
    "        # large l and h\n",
    "        m = (l+(r-1))//2\n",
    "  \n",
    "        # Sort first and second halves\n",
    "        mergeSort(arr, l, m)\n",
    "        mergeSort(arr, m+1, r)\n",
    "        merge(arr, l, m, r)\n",
    "        return count\n",
    "  "
   ]
  },
  {
   "cell_type": "code",
   "execution_count": 44,
   "metadata": {},
   "outputs": [],
   "source": [
    "# Shell Sort Algorithm\n",
    "# https://www.geeksforgeeks.org/python-program-for-shellsort/\n",
    "def shellSort(arr):\n",
    "  \n",
    "    # Start with a big gap, then reduce the gap\n",
    "    n = len(arr)\n",
    "    gap = int(n/2)\n",
    "    count = 0\n",
    "    # Do a gapped insertion sort for this gap size.\n",
    "    # The first gap elements a[0..gap-1] are already in gapped \n",
    "    # order keep adding one more element until the entire array\n",
    "    # is gap sorted\n",
    "    while gap > 0:\n",
    "  \n",
    "        for i in range(int(gap),n):\n",
    "  \n",
    "            # add a[i] to the elements that have been gap sorted\n",
    "            # save a[i] in temp and make a hole at position i\n",
    "            temp = arr[i]\n",
    "  \n",
    "            # shift earlier gap-sorted elements up until the correct\n",
    "            # location for a[i] is found\n",
    "            j = i\n",
    "            while  j >= gap and arr[int(j-gap)] >temp:\n",
    "                count += 1\n",
    "                arr[j] = arr[int(j-gap)]\n",
    "                j = int(j- gap)\n",
    "  \n",
    "            # put temp (the original a[i]) in its correct location\n",
    "            arr[j] = temp\n",
    "        gap = gap // 2\n",
    "        return count"
   ]
  },
  {
   "cell_type": "code",
   "execution_count": 45,
   "metadata": {},
   "outputs": [],
   "source": [
    "# Preparing Growth Chart Data\n",
    "def GetGrowthData(sort_algo, lst, type):\n",
    "    i=0\n",
    "    growth_data = []\n",
    "    while(i < len(lst)):   \n",
    "        if (type == 'merge'):\n",
    "            sort_algo(lst[i], 0, len(lst[i])-1)\n",
    "            freq = count\n",
    "        else:\n",
    "            freq = sort_algo(lst[i])\n",
    "        init_data = []\n",
    "        init_data.append(len(lst[i]))\n",
    "        init_data.append(freq)\n",
    "        growth_data.append(init_data)\n",
    "        i+=1\n",
    "\n",
    "    growth_df = pd.DataFrame(growth_data, columns=['size','frequency'])\n",
    "    return growth_df"
   ]
  },
  {
   "cell_type": "code",
   "execution_count": 46,
   "metadata": {},
   "outputs": [
    {
     "output_type": "execute_result",
     "data": {
      "text/plain": [
       "    size  frequency  frequency_real  frequency_conv\n",
       "0    100         28              28              50\n",
       "1    200         52              61             100\n",
       "2    500        143             141             250\n",
       "3   1000        261             284             500\n",
       "4   2000        515             550            1000\n",
       "5   5000       1262            1345            2500\n",
       "6  10000       2555            2724            5000\n",
       "7  15000       3831            3629            7500\n",
       "8  20000       5104            5430           10000"
      ],
      "text/html": "<div>\n<style scoped>\n    .dataframe tbody tr th:only-of-type {\n        vertical-align: middle;\n    }\n\n    .dataframe tbody tr th {\n        vertical-align: top;\n    }\n\n    .dataframe thead th {\n        text-align: right;\n    }\n</style>\n<table border=\"1\" class=\"dataframe\">\n  <thead>\n    <tr style=\"text-align: right;\">\n      <th></th>\n      <th>size</th>\n      <th>frequency</th>\n      <th>frequency_real</th>\n      <th>frequency_conv</th>\n    </tr>\n  </thead>\n  <tbody>\n    <tr>\n      <th>0</th>\n      <td>100</td>\n      <td>28</td>\n      <td>28</td>\n      <td>50</td>\n    </tr>\n    <tr>\n      <th>1</th>\n      <td>200</td>\n      <td>52</td>\n      <td>61</td>\n      <td>100</td>\n    </tr>\n    <tr>\n      <th>2</th>\n      <td>500</td>\n      <td>143</td>\n      <td>141</td>\n      <td>250</td>\n    </tr>\n    <tr>\n      <th>3</th>\n      <td>1000</td>\n      <td>261</td>\n      <td>284</td>\n      <td>500</td>\n    </tr>\n    <tr>\n      <th>4</th>\n      <td>2000</td>\n      <td>515</td>\n      <td>550</td>\n      <td>1000</td>\n    </tr>\n    <tr>\n      <th>5</th>\n      <td>5000</td>\n      <td>1262</td>\n      <td>1345</td>\n      <td>2500</td>\n    </tr>\n    <tr>\n      <th>6</th>\n      <td>10000</td>\n      <td>2555</td>\n      <td>2724</td>\n      <td>5000</td>\n    </tr>\n    <tr>\n      <th>7</th>\n      <td>15000</td>\n      <td>3831</td>\n      <td>3629</td>\n      <td>7500</td>\n    </tr>\n    <tr>\n      <th>8</th>\n      <td>20000</td>\n      <td>5104</td>\n      <td>5430</td>\n      <td>10000</td>\n    </tr>\n  </tbody>\n</table>\n</div>"
     },
     "metadata": {},
     "execution_count": 46
    }
   ],
   "source": [
    "count = 0\n",
    "shl_randdata = GetGrowthData(shellSort, randLst_Ngroups, \"shell\")\n",
    "count = 0\n",
    "shl_realdata = GetGrowthData(shellSort, realLst_Ngroups, \"shell\")\n",
    "count = 0\n",
    "shl_convdata = GetGrowthData(shellSort, convLst_Ngroups, \"shell\")\n",
    "data = shl_randdata\n",
    "data['frequency_real'] = shl_realdata['frequency']\n",
    "data['frequency_conv'] = shl_convdata['frequency']\n",
    "\n",
    "data.head(10)"
   ]
  },
  {
   "cell_type": "code",
   "execution_count": 47,
   "metadata": {},
   "outputs": [
    {
     "output_type": "execute_result",
     "data": {
      "text/plain": [
       "    size  frequency  frequency_real  frequency_conv\n",
       "0    100         98             116              50\n",
       "1    200        274             400             150\n",
       "2    500        607            1154             400\n",
       "3   1000       1239            2738             900\n",
       "4   2000       2531            6251            1900\n",
       "5   5000       6420           16495            4400\n",
       "6  10000      14112           38622            9400\n",
       "7  15000      24850           66861           16900\n",
       "8  20000      40366          113824           26900"
      ],
      "text/html": "<div>\n<style scoped>\n    .dataframe tbody tr th:only-of-type {\n        vertical-align: middle;\n    }\n\n    .dataframe tbody tr th {\n        vertical-align: top;\n    }\n\n    .dataframe thead th {\n        text-align: right;\n    }\n</style>\n<table border=\"1\" class=\"dataframe\">\n  <thead>\n    <tr style=\"text-align: right;\">\n      <th></th>\n      <th>size</th>\n      <th>frequency</th>\n      <th>frequency_real</th>\n      <th>frequency_conv</th>\n    </tr>\n  </thead>\n  <tbody>\n    <tr>\n      <th>0</th>\n      <td>100</td>\n      <td>98</td>\n      <td>116</td>\n      <td>50</td>\n    </tr>\n    <tr>\n      <th>1</th>\n      <td>200</td>\n      <td>274</td>\n      <td>400</td>\n      <td>150</td>\n    </tr>\n    <tr>\n      <th>2</th>\n      <td>500</td>\n      <td>607</td>\n      <td>1154</td>\n      <td>400</td>\n    </tr>\n    <tr>\n      <th>3</th>\n      <td>1000</td>\n      <td>1239</td>\n      <td>2738</td>\n      <td>900</td>\n    </tr>\n    <tr>\n      <th>4</th>\n      <td>2000</td>\n      <td>2531</td>\n      <td>6251</td>\n      <td>1900</td>\n    </tr>\n    <tr>\n      <th>5</th>\n      <td>5000</td>\n      <td>6420</td>\n      <td>16495</td>\n      <td>4400</td>\n    </tr>\n    <tr>\n      <th>6</th>\n      <td>10000</td>\n      <td>14112</td>\n      <td>38622</td>\n      <td>9400</td>\n    </tr>\n    <tr>\n      <th>7</th>\n      <td>15000</td>\n      <td>24850</td>\n      <td>66861</td>\n      <td>16900</td>\n    </tr>\n    <tr>\n      <th>8</th>\n      <td>20000</td>\n      <td>40366</td>\n      <td>113824</td>\n      <td>26900</td>\n    </tr>\n  </tbody>\n</table>\n</div>"
     },
     "metadata": {},
     "execution_count": 47
    }
   ],
   "source": [
    "ms_randdata = []\n",
    "ms_realdata = []\n",
    "ms_convdata = []\n",
    "msdata = []\n",
    "\n",
    "count = 0\n",
    "ms_randdata = GetGrowthData(mergeSort, randLst_Ngroups, 'merge')\n",
    "count = 0\n",
    "ms_realdata = GetGrowthData(mergeSort, realLst_Ngroups, 'merge')\n",
    "count = 0\n",
    "ms_convdata = GetGrowthData(mergeSort, convLst_Ngroups, 'merge')\n",
    "\n",
    "msdata = ms_randdata\n",
    "msdata['frequency_real'] = ms_realdata['frequency']\n",
    "msdata['frequency_conv'] = ms_convdata['frequency']\n",
    "\n",
    "msdata.head(10)"
   ]
  },
  {
   "cell_type": "code",
   "execution_count": null,
   "metadata": {},
   "outputs": [],
   "source": []
  }
 ]
}